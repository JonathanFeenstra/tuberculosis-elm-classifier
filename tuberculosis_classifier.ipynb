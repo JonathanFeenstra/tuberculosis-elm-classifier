{
 "cells": [
  {
   "cell_type": "markdown",
   "metadata": {},
   "source": [
    "# Building a classifier for detecting tuberculosis in chest X-rays\n",
    "By Jonathan Feenstra (s1024219) and Justin Huberts (s1030368)\n",
    "\n",
    "In this project we attempt to construct a binary Extreme Learning Machine (ELM) classifier to detect tuberculosis in lung X-rays. The U.S. National Library of Medicine has made two datasets of postero-anterior chest radiographs available which we will use to train and test our model: the Montgomery County Set and the Shenzen Set (Jaeger et al., 2014).\n",
    "\n",
    "The datasets are available for download at [https://ceb.nlm.nih.gov/repositories/tuberculosis-chest-x-ray-image-data-sets/](https://ceb.nlm.nih.gov/repositories/tuberculosis-chest-x-ray-image-data-sets/)\n",
    "\n",
    "## Sources\n",
    "- Jaeger, S., Candemir, S., Antani, S., Wáng, Y., Lu, P., & Thoma, G. (2014). Two public chest X-ray datasets for computer-aided screening of pulmonary diseases. _Quantitative Imaging In Medicine And Surgery, 4_(6), 475-477.\n",
    "\n",
    "## Some example images:"
   ]
  },
  {
   "cell_type": "code",
   "execution_count": 1,
   "metadata": {
    "scrolled": true
   },
   "outputs": [
    {
     "ename": "ValueError",
     "evalue": "Sample larger than population or is negative",
     "output_type": "error",
     "traceback": [
      "\u001b[1;31m---------------------------------------------------------------------------\u001b[0m",
      "\u001b[1;31mValueError\u001b[0m                                Traceback (most recent call last)",
      "\u001b[1;32m<ipython-input-1-000007fb7833>\u001b[0m in \u001b[0;36m<module>\u001b[1;34m()\u001b[0m\n\u001b[0;32m     15\u001b[0m \u001b[0mshen_set\u001b[0m \u001b[1;33m=\u001b[0m \u001b[0mshen_tb_neg\u001b[0m \u001b[1;33m+\u001b[0m \u001b[0mshen_tb_pos\u001b[0m\u001b[1;33m\u001b[0m\u001b[0m\n\u001b[0;32m     16\u001b[0m \u001b[1;33m\u001b[0m\u001b[0m\n\u001b[1;32m---> 17\u001b[1;33m \u001b[0mmont_tb_neg_sample\u001b[0m \u001b[1;33m=\u001b[0m \u001b[0msample\u001b[0m\u001b[1;33m(\u001b[0m\u001b[0mmont_tb_neg\u001b[0m\u001b[1;33m,\u001b[0m \u001b[1;36m5\u001b[0m\u001b[1;33m)\u001b[0m\u001b[1;33m\u001b[0m\u001b[0m\n\u001b[0m\u001b[0;32m     18\u001b[0m \u001b[0mmont_tb_pos_sample\u001b[0m \u001b[1;33m=\u001b[0m \u001b[0msample\u001b[0m\u001b[1;33m(\u001b[0m\u001b[0mmont_tb_pos\u001b[0m\u001b[1;33m,\u001b[0m \u001b[1;36m5\u001b[0m\u001b[1;33m)\u001b[0m\u001b[1;33m\u001b[0m\u001b[0m\n\u001b[0;32m     19\u001b[0m \u001b[0mshen_tb_neg_sample\u001b[0m \u001b[1;33m=\u001b[0m \u001b[0msample\u001b[0m\u001b[1;33m(\u001b[0m\u001b[0mshen_tb_neg\u001b[0m\u001b[1;33m,\u001b[0m \u001b[1;36m5\u001b[0m\u001b[1;33m)\u001b[0m\u001b[1;33m\u001b[0m\u001b[0m\n",
      "\u001b[1;32mD:\\Users\\Emperor Justinian\\Anaconda\\lib\\random.py\u001b[0m in \u001b[0;36msample\u001b[1;34m(self, population, k)\u001b[0m\n\u001b[0;32m    315\u001b[0m         \u001b[0mn\u001b[0m \u001b[1;33m=\u001b[0m \u001b[0mlen\u001b[0m\u001b[1;33m(\u001b[0m\u001b[0mpopulation\u001b[0m\u001b[1;33m)\u001b[0m\u001b[1;33m\u001b[0m\u001b[0m\n\u001b[0;32m    316\u001b[0m         \u001b[1;32mif\u001b[0m \u001b[1;32mnot\u001b[0m \u001b[1;36m0\u001b[0m \u001b[1;33m<=\u001b[0m \u001b[0mk\u001b[0m \u001b[1;33m<=\u001b[0m \u001b[0mn\u001b[0m\u001b[1;33m:\u001b[0m\u001b[1;33m\u001b[0m\u001b[0m\n\u001b[1;32m--> 317\u001b[1;33m             \u001b[1;32mraise\u001b[0m \u001b[0mValueError\u001b[0m\u001b[1;33m(\u001b[0m\u001b[1;34m\"Sample larger than population or is negative\"\u001b[0m\u001b[1;33m)\u001b[0m\u001b[1;33m\u001b[0m\u001b[0m\n\u001b[0m\u001b[0;32m    318\u001b[0m         \u001b[0mresult\u001b[0m \u001b[1;33m=\u001b[0m \u001b[1;33m[\u001b[0m\u001b[1;32mNone\u001b[0m\u001b[1;33m]\u001b[0m \u001b[1;33m*\u001b[0m \u001b[0mk\u001b[0m\u001b[1;33m\u001b[0m\u001b[0m\n\u001b[0;32m    319\u001b[0m         \u001b[0msetsize\u001b[0m \u001b[1;33m=\u001b[0m \u001b[1;36m21\u001b[0m        \u001b[1;31m# size of a small set minus size of an empty list\u001b[0m\u001b[1;33m\u001b[0m\u001b[0m\n",
      "\u001b[1;31mValueError\u001b[0m: Sample larger than population or is negative"
     ]
    }
   ],
   "source": [
    "import matplotlib.pyplot as plt\n",
    "import matplotlib.image as mpimg\n",
    "from scipy import ndimage\n",
    "from random import sample\n",
    "import numpy as np\n",
    "import glob\n",
    "%matplotlib inline\n",
    "\n",
    "mont_tb_neg = glob.glob('Data/MontgomerySet/CXR_png/*_0.png')\n",
    "mont_tb_pos = glob.glob('Data/MontgomerySet/CXR_png/*_1.png')\n",
    "shen_tb_neg = glob.glob('Data/ChinaSet_AllFiles/CXR_png/*_0.png')\n",
    "shen_tb_pos = glob.glob('Data/ChinaSet_AllFiles/CXR_png/*_1.png')\n",
    "\n",
    "mont_set = mont_tb_neg + mont_tb_pos\n",
    "shen_set = shen_tb_neg + shen_tb_pos\n",
    "\n",
    "mont_tb_neg_sample = sample(mont_tb_neg, 5)\n",
    "mont_tb_pos_sample = sample(mont_tb_pos, 5)\n",
    "shen_tb_neg_sample = sample(shen_tb_neg, 5)\n",
    "shen_tb_pos_sample = sample(shen_tb_pos, 5)\n",
    "\n",
    "mont_fig = plt.figure(figsize=(15,8))\n",
    "mont_fig.suptitle('Montgomery County Set', size=18)\n",
    "for i, filename in enumerate(mont_tb_neg_sample + mont_tb_pos_sample):\n",
    "    img = mpimg.imread(filename)\n",
    "    plt.subplot(2, 5, i + 1)\n",
    "    plt.imshow(img, cmap='gray')\n",
    "    if i <= 4:\n",
    "        plt.title('Healthy')\n",
    "    else:\n",
    "        plt.title('Tuberculosis')\n",
    "\n",
    "shen_fig = plt.figure(figsize=(15,8))\n",
    "shen_fig.suptitle('Shenzen Set', size=18)\n",
    "for i, filename in enumerate(shen_tb_neg_sample + shen_tb_pos_sample):\n",
    "    img = mpimg.imread(filename)\n",
    "    plt.subplot(2, 5, i + 1)\n",
    "    plt.imshow(img)\n",
    "    if i <= 4:\n",
    "        plt.title('Healthy')\n",
    "    else:\n",
    "        plt.title('Tuberculosis')\n",
    "        \n",
    "plt.show()"
   ]
  },
  {
   "cell_type": "markdown",
   "metadata": {},
   "source": [
    "### Observations\n",
    "Since all Montgomery County images have a default size of either 4,020×4,892 or 4,892×4,020 pixels, while the actual X-ray size varies, some images contain empty space (black background). For the Shenzen Set this is not the case, but here the image sizes vary more."
   ]
  },
  {
   "cell_type": "markdown",
   "metadata": {},
   "source": [
    "## Pre-processing\n",
    "### Step 1: Trim the Montgomery set images to remove empty space"
   ]
  },
  {
   "cell_type": "code",
   "execution_count": null,
   "metadata": {
    "scrolled": true
   },
   "outputs": [],
   "source": [
    "from PIL import Image, ImageChops\n",
    "import numpy as np\n",
    "\n",
    "# This code was used to trim the images:\n",
    "\n",
    "# def trim(im):\n",
    "#     bg = Image.new(im.mode, im.size, im.getpixel((0,0)))\n",
    "#     diff = ImageChops.difference(im, bg)\n",
    "#     diff = ImageChops.add(diff, diff, 2.0, -100)\n",
    "#     bbox = diff.getbbox()\n",
    "#     if bbox:\n",
    "#         return im.crop(bbox)\n",
    "\n",
    "# for filename in mont_set:\n",
    "#     trim(Image.open(filename)).save(filename.replace('CXR_png', 'Trimmed'))\n",
    "\n",
    "mont_set = glob.glob('Data/MontgomerySet/Trimmed/*.png')\n",
    "\n",
    "trim_fig = plt.figure(figsize=(15,8))\n",
    "trim_fig.suptitle('Montgomery County Trimmed', size=18)\n",
    "for i, filename in enumerate(mont_tb_neg_sample + mont_tb_pos_sample):\n",
    "    plt.subplot(2, 5, i + 1)\n",
    "    plt.imshow(np.array(Image.open(filename.replace('CXR_png', 'Trimmed'))), cmap='gray')\n",
    "    if i <= 4:\n",
    "        plt.title('Healthy')\n",
    "    else:\n",
    "        plt.title('Tuberculosis')\n",
    "    \n",
    "plt.show()"
   ]
  },
  {
   "cell_type": "markdown",
   "metadata": {},
   "source": [
    "### Observations\n",
    "Now that the empty spaces of the images are trimmed away, the Montgomery County image sizes vary as well."
   ]
  },
  {
   "cell_type": "markdown",
   "metadata": {},
   "source": [
    "### Step 2: Compress all images to 1024 x 1024 pixels"
   ]
  },
  {
   "cell_type": "code",
   "execution_count": null,
   "metadata": {},
   "outputs": [],
   "source": [
    "# This code was used to compress the images:\n",
    "\n",
    "# for i, filename in enumerate(mont_set):\n",
    "#     Image.open(filename).resize((1024,1024),Image.ANTIALIAS).save(filename.replace('Trimmed', 'Compressed'))\n",
    "    \n",
    "# for i, filename in enumerate(shen_set):\n",
    "#     Image.open(filename).resize((1024,1024),Image.ANTIALIAS).save(filename.replace('CXR_png', 'Compressed'))\n",
    "\n",
    "mont_fig = plt.figure(figsize=(15,8))\n",
    "mont_fig.suptitle('Montgomery County Compressed', size=18)\n",
    "for i, filename in enumerate(mont_tb_neg_sample + mont_tb_pos_sample):\n",
    "    plt.subplot(2, 5, i + 1)\n",
    "    plt.imshow(np.array(Image.open(filename.replace('CXR_png', 'Compressed'))), cmap='gray')\n",
    "    if i <= 4:\n",
    "        plt.title('Healthy')\n",
    "    else:\n",
    "        plt.title('Tuberculosis')\n",
    "\n",
    "shen_fig = plt.figure(figsize=(15,8))\n",
    "shen_fig.suptitle('Shenzen Compressed', size=18)\n",
    "for i, filename in enumerate(shen_tb_neg_sample + shen_tb_pos_sample):\n",
    "    plt.subplot(2, 5, i + 1)\n",
    "    plt.imshow(np.array(Image.open(filename.replace('CXR_png', 'Compressed')).convert('L')), cmap='gray')\n",
    "    if i <= 4:\n",
    "        plt.title('Healthy')\n",
    "    else:\n",
    "        plt.title('Tuberculosis')\n",
    "    \n",
    "plt.show()"
   ]
  },
  {
   "cell_type": "markdown",
   "metadata": {},
   "source": [
    "### Observations\n",
    "As expected, all images are now 1024 x 1024 pixels, which has changed the horizontal/vertical scale a bit for all images that were not square-shaped. Hopefully this does not negatively affect the performance of the classifier."
   ]
  },
  {
   "cell_type": "markdown",
   "metadata": {},
   "source": [
    "### Step 3: Invert colors to prepare the images for bone shadow suppression"
   ]
  },
  {
   "cell_type": "code",
   "execution_count": null,
   "metadata": {},
   "outputs": [],
   "source": [
    "# This code was used to invert colors:\n",
    "\n",
    "# import os\n",
    "# import PIL.ImageOps\n",
    "\n",
    "# for filename in glob.glob('Data/MontgomerySet/Compressed/*.png') + glob.glob('Data/ChinaSet_AllFiles/Compressed/*.png'):\n",
    "#     PIL.ImageOps.invert(Image.open(filename).convert('L')).save('Data/Inverted/' + os.path.basename(filename))\n",
    "\n",
    "mont_fig = plt.figure(figsize=(15,8))\n",
    "mont_fig.suptitle('Montgomery County Inverted', size=18)\n",
    "for i, filename in enumerate(mont_tb_neg_sample + mont_tb_pos_sample):\n",
    "    plt.subplot(2, 5, i + 1)\n",
    "    plt.imshow(np.array(Image.open(filename.replace('MontgomerySet/CXR_png', 'Inverted'))), cmap='gray')\n",
    "    if i <= 4:\n",
    "        plt.title('Healthy')\n",
    "    else:\n",
    "        plt.title('Tuberculosis')\n",
    "    \n",
    "shen_fig = plt.figure(figsize=(15,8))\n",
    "shen_fig.suptitle('Shenzen Inverted', size=18)\n",
    "for i, filename in enumerate(shen_tb_neg_sample + shen_tb_pos_sample):\n",
    "    plt.subplot(2, 5, i + 1)\n",
    "    plt.imshow(np.array(Image.open(filename.replace('ChinaSet_AllFiles/CXR_png', 'Inverted')).convert('L')), cmap='gray')\n",
    "    if i <= 4:\n",
    "        plt.title('Healthy')\n",
    "    else:\n",
    "        plt.title('Tuberculosis')\n",
    "    \n",
    "plt.show()"
   ]
  },
  {
   "cell_type": "markdown",
   "metadata": {},
   "source": [
    "### Observations\n",
    "The colors were inverted properly, which has made the lungs brighter than the other parts of the chest. Remarkably, the lungs in the Montgomery County Set appear to look brighter than those in the Shenzen Set."
   ]
  },
  {
   "cell_type": "markdown",
   "metadata": {},
   "source": [
    "### Step 4: Apply bone shadow suppression\n",
    "For this step we used the pretrained model from  [https://github.com/hmchuong/ML-BoneSuppression](https://github.com/hmchuong/ML-BoneSuppression) to suppress the bone shadows of the inverted images using the following shell script (BASH):\n",
    "```\n",
    "#!/bin/bash\n",
    "for filename in ./Data/Inverted/*\n",
    "do\n",
    "    python test.py --input \\$filename --output \"\\${filename/Inverted/Suppressed}\"\n",
    "done\n",
    "```\n",
    "Note that executing this script requires some of the files from the [GitHub repository](https://github.com/hmchuong/ML-BoneSuppression)."
   ]
  },
  {
   "cell_type": "code",
   "execution_count": null,
   "metadata": {},
   "outputs": [],
   "source": [
    "mont_fig = plt.figure(figsize=(15,8))\n",
    "mont_fig.suptitle('Montgomery County Suppressed', size=18)\n",
    "for i, filename in enumerate(mont_tb_neg_sample + mont_tb_pos_sample):\n",
    "    plt.subplot(2, 5, i + 1)\n",
    "    plt.imshow(np.array(Image.open(filename.replace('MontgomerySet/CXR_png', 'Suppressed'))), cmap='gray')\n",
    "    if i <= 4:\n",
    "        plt.title('Healthy')\n",
    "    else:\n",
    "        plt.title('Tuberculosis')\n",
    "    \n",
    "shen_fig = plt.figure(figsize=(15,8))\n",
    "shen_fig.suptitle('Shenzen Suppressed', size=18)\n",
    "for i, filename in enumerate(shen_tb_neg_sample + shen_tb_pos_sample):\n",
    "    plt.subplot(2, 5, i + 1)\n",
    "    plt.imshow(np.array(Image.open(filename.replace('ChinaSet_AllFiles/CXR_png', 'Suppressed'))), cmap='gray')\n",
    "    if i <= 4:\n",
    "        plt.title('Healthy')\n",
    "    else:\n",
    "        plt.title('Tuberculosis')\n",
    "    \n",
    "plt.show()"
   ]
  },
  {
   "cell_type": "markdown",
   "metadata": {},
   "source": [
    "### Observations\n",
    "The bone shadows have significantly been suppressed, especially for the Montgomery County Set."
   ]
  },
  {
   "cell_type": "markdown",
   "metadata": {},
   "source": [
    "### Step 5: Reconstruct the images using an autoencoder"
   ]
  },
  {
   "cell_type": "code",
   "execution_count": 1,
   "metadata": {},
   "outputs": [
    {
     "name": "stderr",
     "output_type": "stream",
     "text": [
      "D:\\Users\\Emperor Justinian\\Anaconda\\lib\\site-packages\\h5py\\__init__.py:36: FutureWarning: Conversion of the second argument of issubdtype from `float` to `np.floating` is deprecated. In future, it will be treated as `np.float64 == np.dtype(float).type`.\n",
      "  from ._conv import register_converters as _register_converters\n",
      "Using TensorFlow backend.\n"
     ]
    },
    {
     "name": "stdout",
     "output_type": "stream",
     "text": [
      "Train on 529 samples, validate on 67 samples\n",
      "Epoch 1/1\n",
      "529/529 [==============================] - 87s 165ms/step - loss: -77.1976 - val_loss: -507.1137\n"
     ]
    },
    {
     "ename": "ValueError",
     "evalue": "Error when checking input: expected input_2 to have 2 dimensions, but got array with shape (67, 1024, 32)",
     "output_type": "error",
     "traceback": [
      "\u001b[1;31m---------------------------------------------------------------------------\u001b[0m",
      "\u001b[1;31mValueError\u001b[0m                                Traceback (most recent call last)",
      "\u001b[1;32m<ipython-input-1-e2f46493375e>\u001b[0m in \u001b[0;36m<module>\u001b[1;34m()\u001b[0m\n\u001b[0;32m     87\u001b[0m \u001b[1;31m# note that we take them from the *test* set\u001b[0m\u001b[1;33m\u001b[0m\u001b[1;33m\u001b[0m\u001b[0m\n\u001b[0;32m     88\u001b[0m \u001b[0mencoded_imgs\u001b[0m \u001b[1;33m=\u001b[0m \u001b[0mencoder\u001b[0m\u001b[1;33m.\u001b[0m\u001b[0mpredict\u001b[0m\u001b[1;33m(\u001b[0m\u001b[0mx_test\u001b[0m\u001b[1;33m)\u001b[0m\u001b[1;33m\u001b[0m\u001b[0m\n\u001b[1;32m---> 89\u001b[1;33m \u001b[0mdecoded_imgs\u001b[0m \u001b[1;33m=\u001b[0m \u001b[0mdecoder\u001b[0m\u001b[1;33m.\u001b[0m\u001b[0mpredict\u001b[0m\u001b[1;33m(\u001b[0m\u001b[0mencoded_imgs\u001b[0m\u001b[1;33m)\u001b[0m\u001b[1;33m\u001b[0m\u001b[0m\n\u001b[0m",
      "\u001b[1;32mD:\\Users\\Emperor Justinian\\Anaconda\\lib\\site-packages\\keras\\engine\\training.py\u001b[0m in \u001b[0;36mpredict\u001b[1;34m(self, x, batch_size, verbose, steps)\u001b[0m\n\u001b[0;32m   1147\u001b[0m                              'argument.')\n\u001b[0;32m   1148\u001b[0m         \u001b[1;31m# Validate user data.\u001b[0m\u001b[1;33m\u001b[0m\u001b[1;33m\u001b[0m\u001b[0m\n\u001b[1;32m-> 1149\u001b[1;33m         \u001b[0mx\u001b[0m\u001b[1;33m,\u001b[0m \u001b[0m_\u001b[0m\u001b[1;33m,\u001b[0m \u001b[0m_\u001b[0m \u001b[1;33m=\u001b[0m \u001b[0mself\u001b[0m\u001b[1;33m.\u001b[0m\u001b[0m_standardize_user_data\u001b[0m\u001b[1;33m(\u001b[0m\u001b[0mx\u001b[0m\u001b[1;33m)\u001b[0m\u001b[1;33m\u001b[0m\u001b[0m\n\u001b[0m\u001b[0;32m   1150\u001b[0m         \u001b[1;32mif\u001b[0m \u001b[0mself\u001b[0m\u001b[1;33m.\u001b[0m\u001b[0mstateful\u001b[0m\u001b[1;33m:\u001b[0m\u001b[1;33m\u001b[0m\u001b[0m\n\u001b[0;32m   1151\u001b[0m             \u001b[1;32mif\u001b[0m \u001b[0mx\u001b[0m\u001b[1;33m[\u001b[0m\u001b[1;36m0\u001b[0m\u001b[1;33m]\u001b[0m\u001b[1;33m.\u001b[0m\u001b[0mshape\u001b[0m\u001b[1;33m[\u001b[0m\u001b[1;36m0\u001b[0m\u001b[1;33m]\u001b[0m \u001b[1;33m>\u001b[0m \u001b[0mbatch_size\u001b[0m \u001b[1;32mand\u001b[0m \u001b[0mx\u001b[0m\u001b[1;33m[\u001b[0m\u001b[1;36m0\u001b[0m\u001b[1;33m]\u001b[0m\u001b[1;33m.\u001b[0m\u001b[0mshape\u001b[0m\u001b[1;33m[\u001b[0m\u001b[1;36m0\u001b[0m\u001b[1;33m]\u001b[0m \u001b[1;33m%\u001b[0m \u001b[0mbatch_size\u001b[0m \u001b[1;33m!=\u001b[0m \u001b[1;36m0\u001b[0m\u001b[1;33m:\u001b[0m\u001b[1;33m\u001b[0m\u001b[0m\n",
      "\u001b[1;32mD:\\Users\\Emperor Justinian\\Anaconda\\lib\\site-packages\\keras\\engine\\training.py\u001b[0m in \u001b[0;36m_standardize_user_data\u001b[1;34m(self, x, y, sample_weight, class_weight, check_array_lengths, batch_size)\u001b[0m\n\u001b[0;32m    749\u001b[0m             \u001b[0mfeed_input_shapes\u001b[0m\u001b[1;33m,\u001b[0m\u001b[1;33m\u001b[0m\u001b[0m\n\u001b[0;32m    750\u001b[0m             \u001b[0mcheck_batch_axis\u001b[0m\u001b[1;33m=\u001b[0m\u001b[1;32mFalse\u001b[0m\u001b[1;33m,\u001b[0m  \u001b[1;31m# Don't enforce the batch size.\u001b[0m\u001b[1;33m\u001b[0m\u001b[0m\n\u001b[1;32m--> 751\u001b[1;33m             exception_prefix='input')\n\u001b[0m\u001b[0;32m    752\u001b[0m \u001b[1;33m\u001b[0m\u001b[0m\n\u001b[0;32m    753\u001b[0m         \u001b[1;32mif\u001b[0m \u001b[0my\u001b[0m \u001b[1;32mis\u001b[0m \u001b[1;32mnot\u001b[0m \u001b[1;32mNone\u001b[0m\u001b[1;33m:\u001b[0m\u001b[1;33m\u001b[0m\u001b[0m\n",
      "\u001b[1;32mD:\\Users\\Emperor Justinian\\Anaconda\\lib\\site-packages\\keras\\engine\\training_utils.py\u001b[0m in \u001b[0;36mstandardize_input_data\u001b[1;34m(data, names, shapes, check_batch_axis, exception_prefix)\u001b[0m\n\u001b[0;32m    126\u001b[0m                         \u001b[1;34m': expected '\u001b[0m \u001b[1;33m+\u001b[0m \u001b[0mnames\u001b[0m\u001b[1;33m[\u001b[0m\u001b[0mi\u001b[0m\u001b[1;33m]\u001b[0m \u001b[1;33m+\u001b[0m \u001b[1;34m' to have '\u001b[0m \u001b[1;33m+\u001b[0m\u001b[1;33m\u001b[0m\u001b[0m\n\u001b[0;32m    127\u001b[0m                         \u001b[0mstr\u001b[0m\u001b[1;33m(\u001b[0m\u001b[0mlen\u001b[0m\u001b[1;33m(\u001b[0m\u001b[0mshape\u001b[0m\u001b[1;33m)\u001b[0m\u001b[1;33m)\u001b[0m \u001b[1;33m+\u001b[0m \u001b[1;34m' dimensions, but got array '\u001b[0m\u001b[1;33m\u001b[0m\u001b[0m\n\u001b[1;32m--> 128\u001b[1;33m                         'with shape ' + str(data_shape))\n\u001b[0m\u001b[0;32m    129\u001b[0m                 \u001b[1;32mif\u001b[0m \u001b[1;32mnot\u001b[0m \u001b[0mcheck_batch_axis\u001b[0m\u001b[1;33m:\u001b[0m\u001b[1;33m\u001b[0m\u001b[0m\n\u001b[0;32m    130\u001b[0m                     \u001b[0mdata_shape\u001b[0m \u001b[1;33m=\u001b[0m \u001b[0mdata_shape\u001b[0m\u001b[1;33m[\u001b[0m\u001b[1;36m1\u001b[0m\u001b[1;33m:\u001b[0m\u001b[1;33m]\u001b[0m\u001b[1;33m\u001b[0m\u001b[0m\n",
      "\u001b[1;31mValueError\u001b[0m: Error when checking input: expected input_2 to have 2 dimensions, but got array with shape (67, 1024, 32)"
     ]
    }
   ],
   "source": [
    "from keras.layers import Input, Dense\n",
    "from keras.models import Model\n",
    "\n",
    "#from sklearn.preprocessing import StandardScaler\n",
    "#scaler = StandardScaler()\n",
    "#scaled_data = scaler.fit_transform(data)\n",
    "\n",
    "import numpy as np\n",
    "import random\n",
    "\n",
    "# this is the size of our encoded representations\n",
    "encoding_dim = 32  # 32 floats -> compression of factor 24.5, assuming the input is 784 floats\n",
    "\n",
    "# this is our input placeholder\n",
    "input_img = Input(shape=(1024, 1024))\n",
    "# \"encoded\" is the encoded representation of the input\n",
    "encoded = Dense(encoding_dim, activation='relu')(input_img)\n",
    "# \"decoded\" is the lossy reconstruction of the input\n",
    "decoded = Dense(1024, activation='sigmoid')(encoded)\n",
    "\n",
    "# this model maps an input to its reconstruction\n",
    "autoencoder = Model(input_img, decoded)\n",
    "\n",
    "# this model maps an input to its encoded representation\n",
    "encoder = Model(input_img, encoded)\n",
    "\n",
    "# create a placeholder for an encoded (32-dimensional) input\n",
    "encoded_input = Input(shape=(encoding_dim,))\n",
    "# retrieve the last layer of the autoencoder model\n",
    "decoder_layer = autoencoder.layers[-1]\n",
    "# create the decoder model\n",
    "\n",
    "decoder = Model(encoded_input, decoder_layer(encoded_input))\n",
    "\n",
    "autoencoder.compile(optimizer='adadelta', loss='binary_crossentropy')\n",
    "\n",
    "#mont_set.sort(key=lambda x: x.filename, reverse=True)\n",
    "#random.seed(42)\n",
    "#random.shuffle(mont_set) # shuffles the ordering of the data\n",
    "\n",
    "#\n",
    "from PIL import Image\n",
    "import os\n",
    "import glob\n",
    "\n",
    "mont_set = []\n",
    "\n",
    "#mont_set.sort(key=lambda x: x.filename, reverse=True)\n",
    "random.seed(42)\n",
    "random.shuffle(mont_set) # shuffles the ordering of the data\n",
    "\n",
    "for filename in glob.glob('Data/Suppressed/*.png'):\n",
    "    img = np.frombuffer(Image.open(filename).tobytes(), dtype=np.uint8)\n",
    "    if os.path.basename(filename)[0] == 'C': #M\n",
    "        mont_set.append(img)\n",
    "        \n",
    "\n",
    "#        \n",
    "        \n",
    "for index, img in enumerate(mont_set):\n",
    "    img = np.frombuffer(img.tobytes(), dtype=np.uint8)\n",
    "    img = img.reshape((1024, 1024))  \n",
    "    mont_set[index] = img\n",
    "\n",
    "split_1 = int(0.8 * len(mont_set))\n",
    "split_2 = int(0.9 * len(mont_set))\n",
    "x_train = np.array(mont_set[:split_1])\n",
    "#dev_filenames = mont_set[split_1:split_2]\n",
    "x_test = np.array(mont_set[split_2:])\n",
    "\n",
    "# print(x_train.shape)\n",
    "# print(x_test.shape)\n",
    "\n",
    "# x_train = x_train[:0,:]\n",
    "# x_test = x_test[:0,:]\n",
    "\n",
    "# print(x_train.shape)\n",
    "# print(x_test.shape)\n",
    "\n",
    "autoencoder.fit(x_train, x_train,\n",
    "                epochs=1, #50\n",
    "                batch_size=256,\n",
    "                shuffle=True,\n",
    "                validation_data=(x_test, x_test))\n",
    "\n",
    "# encode and decode some digits\n",
    "# note that we take them from the *test* set\n",
    "encoded_imgs = encoder.predict(x_test)\n",
    "decoded_imgs = decoder.predict(encoded_imgs)"
   ]
  },
  {
   "cell_type": "code",
   "execution_count": 24,
   "metadata": {},
   "outputs": [
    {
     "name": "stdout",
     "output_type": "stream",
     "text": [
      "(1024, 32)\n"
     ]
    },
    {
     "data": {
      "image/png": "[encoded data removed]",
      "text/plain": [
       "<Figure size 432x288 with 1 Axes>"
      ]
     },
     "metadata": {},
     "output_type": "display_data"
    }
   ],
   "source": [
    "import matplotlib.pyplot as plt\n",
    "from numpy import reshape\n",
    "\n",
    "imgd = encoded_imgs[-0]\n",
    "print(imgd.shape)\n",
    "\n",
    "I = reshape(imgd,((1024, 32)))\n",
    "plt.imshow(I, extent=(32,1024,32,1024));\n",
    "plt.title(\"img\");\n",
    "plt.tight_layout()\n",
    "plt.show()\n",
    "    \n",
    "plt.show()    "
   ]
  },
  {
   "cell_type": "code",
   "execution_count": 13,
   "metadata": {},
   "outputs": [
    {
     "name": "stdout",
     "output_type": "stream",
     "text": [
      "(800, 1024, 1024)\n",
      "(800,)\n",
      "(536, 1024, 1024)\n",
      "(264, 1024, 1024)\n",
      "(536,)\n",
      "(264,)\n"
     ]
    },
    {
     "ename": "ValueError",
     "evalue": "Input 0 is incompatible with layer conv2d_17: expected ndim=4, found ndim=3",
     "output_type": "error",
     "traceback": [
      "\u001b[1;31m---------------------------------------------------------------------------\u001b[0m",
      "\u001b[1;31mValueError\u001b[0m                                Traceback (most recent call last)",
      "\u001b[1;32m<ipython-input-13-5e27c0420328>\u001b[0m in \u001b[0;36m<module>\u001b[1;34m()\u001b[0m\n\u001b[0;32m     65\u001b[0m \u001b[0mmodel\u001b[0m \u001b[1;33m=\u001b[0m \u001b[0mSequential\u001b[0m\u001b[1;33m(\u001b[0m\u001b[1;33m)\u001b[0m\u001b[1;33m\u001b[0m\u001b[0m\n\u001b[0;32m     66\u001b[0m \u001b[1;31m#add model layers\u001b[0m\u001b[1;33m\u001b[0m\u001b[1;33m\u001b[0m\u001b[0m\n\u001b[1;32m---> 67\u001b[1;33m \u001b[0mmodel\u001b[0m\u001b[1;33m.\u001b[0m\u001b[0madd\u001b[0m\u001b[1;33m(\u001b[0m\u001b[0mConv2D\u001b[0m\u001b[1;33m(\u001b[0m\u001b[1;36m64\u001b[0m\u001b[1;33m,\u001b[0m \u001b[0mkernel_size\u001b[0m\u001b[1;33m=\u001b[0m\u001b[1;36m3\u001b[0m\u001b[1;33m,\u001b[0m \u001b[0minput_shape\u001b[0m\u001b[1;33m=\u001b[0m\u001b[1;33m(\u001b[0m\u001b[1;36m1024\u001b[0m\u001b[1;33m,\u001b[0m\u001b[1;36m1024\u001b[0m\u001b[1;33m)\u001b[0m\u001b[1;33m)\u001b[0m\u001b[1;33m)\u001b[0m\u001b[1;33m\u001b[0m\u001b[0m\n\u001b[0m\u001b[0;32m     68\u001b[0m \u001b[1;31m#model.add(LeakyReLU(alpha=0.05))\u001b[0m\u001b[1;33m\u001b[0m\u001b[1;33m\u001b[0m\u001b[0m\n\u001b[0;32m     69\u001b[0m \u001b[0mmodel\u001b[0m\u001b[1;33m.\u001b[0m\u001b[0madd\u001b[0m\u001b[1;33m(\u001b[0m\u001b[0mConv2D\u001b[0m\u001b[1;33m(\u001b[0m\u001b[1;36m32\u001b[0m\u001b[1;33m,\u001b[0m \u001b[0mkernel_size\u001b[0m\u001b[1;33m=\u001b[0m\u001b[1;36m3\u001b[0m\u001b[1;33m)\u001b[0m\u001b[1;33m)\u001b[0m\u001b[1;33m\u001b[0m\u001b[0m\n",
      "\u001b[1;32mD:\\Users\\Emperor Justinian\\Anaconda\\lib\\site-packages\\keras\\engine\\sequential.py\u001b[0m in \u001b[0;36madd\u001b[1;34m(self, layer)\u001b[0m\n\u001b[0;32m    163\u001b[0m                     \u001b[1;31m# and create the node connecting the current layer\u001b[0m\u001b[1;33m\u001b[0m\u001b[1;33m\u001b[0m\u001b[0m\n\u001b[0;32m    164\u001b[0m                     \u001b[1;31m# to the input layer we just created.\u001b[0m\u001b[1;33m\u001b[0m\u001b[1;33m\u001b[0m\u001b[0m\n\u001b[1;32m--> 165\u001b[1;33m                     \u001b[0mlayer\u001b[0m\u001b[1;33m(\u001b[0m\u001b[0mx\u001b[0m\u001b[1;33m)\u001b[0m\u001b[1;33m\u001b[0m\u001b[0m\n\u001b[0m\u001b[0;32m    166\u001b[0m                     \u001b[0mset_inputs\u001b[0m \u001b[1;33m=\u001b[0m \u001b[1;32mTrue\u001b[0m\u001b[1;33m\u001b[0m\u001b[0m\n\u001b[0;32m    167\u001b[0m             \u001b[1;32melse\u001b[0m\u001b[1;33m:\u001b[0m\u001b[1;33m\u001b[0m\u001b[0m\n",
      "\u001b[1;32mD:\\Users\\Emperor Justinian\\Anaconda\\lib\\site-packages\\keras\\engine\\base_layer.py\u001b[0m in \u001b[0;36m__call__\u001b[1;34m(self, inputs, **kwargs)\u001b[0m\n\u001b[0;32m    412\u001b[0m                 \u001b[1;31m# Raise exceptions in case the input is not compatible\u001b[0m\u001b[1;33m\u001b[0m\u001b[1;33m\u001b[0m\u001b[0m\n\u001b[0;32m    413\u001b[0m                 \u001b[1;31m# with the input_spec specified in the layer constructor.\u001b[0m\u001b[1;33m\u001b[0m\u001b[1;33m\u001b[0m\u001b[0m\n\u001b[1;32m--> 414\u001b[1;33m                 \u001b[0mself\u001b[0m\u001b[1;33m.\u001b[0m\u001b[0massert_input_compatibility\u001b[0m\u001b[1;33m(\u001b[0m\u001b[0minputs\u001b[0m\u001b[1;33m)\u001b[0m\u001b[1;33m\u001b[0m\u001b[0m\n\u001b[0m\u001b[0;32m    415\u001b[0m \u001b[1;33m\u001b[0m\u001b[0m\n\u001b[0;32m    416\u001b[0m                 \u001b[1;31m# Collect input shapes to build layer.\u001b[0m\u001b[1;33m\u001b[0m\u001b[1;33m\u001b[0m\u001b[0m\n",
      "\u001b[1;32mD:\\Users\\Emperor Justinian\\Anaconda\\lib\\site-packages\\keras\\engine\\base_layer.py\u001b[0m in \u001b[0;36massert_input_compatibility\u001b[1;34m(self, inputs)\u001b[0m\n\u001b[0;32m    309\u001b[0m                                      \u001b[0mself\u001b[0m\u001b[1;33m.\u001b[0m\u001b[0mname\u001b[0m \u001b[1;33m+\u001b[0m \u001b[1;34m': expected ndim='\u001b[0m \u001b[1;33m+\u001b[0m\u001b[1;33m\u001b[0m\u001b[0m\n\u001b[0;32m    310\u001b[0m                                      \u001b[0mstr\u001b[0m\u001b[1;33m(\u001b[0m\u001b[0mspec\u001b[0m\u001b[1;33m.\u001b[0m\u001b[0mndim\u001b[0m\u001b[1;33m)\u001b[0m \u001b[1;33m+\u001b[0m \u001b[1;34m', found ndim='\u001b[0m \u001b[1;33m+\u001b[0m\u001b[1;33m\u001b[0m\u001b[0m\n\u001b[1;32m--> 311\u001b[1;33m                                      str(K.ndim(x)))\n\u001b[0m\u001b[0;32m    312\u001b[0m             \u001b[1;32mif\u001b[0m \u001b[0mspec\u001b[0m\u001b[1;33m.\u001b[0m\u001b[0mmax_ndim\u001b[0m \u001b[1;32mis\u001b[0m \u001b[1;32mnot\u001b[0m \u001b[1;32mNone\u001b[0m\u001b[1;33m:\u001b[0m\u001b[1;33m\u001b[0m\u001b[0m\n\u001b[0;32m    313\u001b[0m                 \u001b[0mndim\u001b[0m \u001b[1;33m=\u001b[0m \u001b[0mK\u001b[0m\u001b[1;33m.\u001b[0m\u001b[0mndim\u001b[0m\u001b[1;33m(\u001b[0m\u001b[0mx\u001b[0m\u001b[1;33m)\u001b[0m\u001b[1;33m\u001b[0m\u001b[0m\n",
      "\u001b[1;31mValueError\u001b[0m: Input 0 is incompatible with layer conv2d_17: expected ndim=4, found ndim=3"
     ]
    }
   ],
   "source": [
    "from keras.models import Sequential\n",
    "from keras.layers import Dense, Conv2D, Flatten, LeakyReLU, Activation\n",
    "\n",
    "\n",
    "from PIL import Image\n",
    "import os\n",
    "import glob\n",
    "import random\n",
    "import numpy as np\n",
    "\n",
    "# mont_set = []\n",
    "\n",
    "# #mont_set.sort(key=lambda x: x.filename, reverse=True)\n",
    "# random.seed(42)\n",
    "# random.shuffle(mont_set) # shuffles the ordering of the data\n",
    "\n",
    "# for filename in glob.glob('Data/Suppressed/*.png'):\n",
    "#     img = np.frombuffer(Image.open(filename).tobytes(), dtype=np.uint8)\n",
    "#     if os.path.basename(filename)[0] == 'C': #M\n",
    "#         mont_set.append(img)\n",
    "               \n",
    "        \n",
    "# for index, img in enumerate(mont_set):\n",
    "#     img = np.frombuffer(img.tobytes(), dtype=np.uint8)\n",
    "#     img = img.reshape((1024, 1024))  \n",
    "#     mont_set[index] = img\n",
    "\n",
    "# split_1 = int(0.8 * len(mont_set))\n",
    "# split_2 = int(0.9 * len(mont_set))\n",
    "# x_train = np.array(mont_set[:split_1])\n",
    "# x_test = np.array(mont_set[split_2:])\n",
    "\n",
    "mont_images = []\n",
    "shen_images = []\n",
    "mont_labels = []\n",
    "shen_labels = []\n",
    "\n",
    "for filename in glob.glob('Data/Suppressed/*.png'):\n",
    "    img = np.frombuffer(Image.open(filename).tobytes(), dtype=np.uint8)\n",
    "    if os.path.basename(filename)[0] == 'C':\n",
    "        img = img.reshape((1024, 1024)) \n",
    "        shen_images.append(img)\n",
    "        shen_labels.append(int(os.path.splitext(filename)[0][-1]))\n",
    "    elif os.path.basename(filename)[0] == 'M':\n",
    "        img = img.reshape((1024, 1024)) \n",
    "        mont_images.append(img)\n",
    "        mont_labels.append(int(os.path.splitext(filename)[0][-1]))        \n",
    "           \n",
    "# Ik test de ELM hier op alle data om te controleren of het goed werkt\n",
    "X = np.array(mont_images + shen_images)\n",
    "y = np.array(mont_labels + shen_labels, dtype=np.int64)\n",
    "\n",
    "print(X.shape)\n",
    "print(y.shape)\n",
    "\n",
    "from sklearn.model_selection import train_test_split\n",
    "X_train, X_test, y_train, y_test = train_test_split(X, y, test_size=0.33, random_state=42)\n",
    "\n",
    "print(X_train.shape)\n",
    "print(X_test.shape)\n",
    "print(y_train.shape)\n",
    "print(y_test.shape)\n",
    "\n",
    "#create model\n",
    "model = Sequential()\n",
    "#add model layers\n",
    "model.add(Conv2D(64, kernel_size=3, input_shape=(1024,1024)))\n",
    "#model.add(LeakyReLU(alpha=0.05))\n",
    "model.add(Conv2D(32, kernel_size=3))\n",
    "model.add(Flatten())\n",
    "model.add(Dense(1, activation='relu'))\n",
    "\n",
    "#compile model using accuracy to measure model performance\n",
    "model.compile(optimizer='adam', loss='categorical_crossentropy', metrics=['accuracy'])\n",
    "\n",
    "print(model.summary())\n",
    "\n",
    "#train the model\n",
    "model.fit(X_train, y_train, validation_data=(X_test, y_test), epochs=3)\n",
    "\n",
    "#predict first 4 images in the test set\n",
    "print(model.predict(X_test[:4]))"
   ]
  },
  {
   "cell_type": "markdown",
   "metadata": {},
   "source": [
    "### Observations"
   ]
  },
  {
   "cell_type": "markdown",
   "metadata": {},
   "source": [
    "## ELM classifier\n",
    "Train and test a binary ELM classifier using the extension for scikit-learn. Evaluate it for both of the datasets with an ROC-curve and a confusion matrix.\n",
    "\n",
    "Useful article: [https://ieeexplore.ieee.org/document/7140733](https://ieeexplore.ieee.org/document/7140733)"
   ]
  },
  {
   "cell_type": "code",
   "execution_count": 33,
   "metadata": {},
   "outputs": [
    {
     "name": "stderr",
     "output_type": "stream",
     "text": [
      "D:\\Users\\Emperor Justinian\\Anaconda\\lib\\site-packages\\hpelm\\nnets\\slfn.py:62: RuntimeWarning: overflow encountered in exp\n",
      "  self.func[\"sigm\"] = lambda X, W, B: 1 / (1 + np.exp(np.dot(X, W) + B))\n"
     ]
    },
    {
     "name": "stdout",
     "output_type": "stream",
     "text": [
      "Covariance matrix is not full rank; solving with SVD (slow)\n",
      "This happened because you have duplicated or too many neurons\n"
     ]
    },
    {
     "name": "stderr",
     "output_type": "stream",
     "text": [
      "D:\\Users\\Emperor Justinian\\Anaconda\\lib\\site-packages\\hpelm\\nnets\\slfn_python.py:65: FutureWarning: `rcond` parameter will change to the default of machine precision times ``max(M, N)`` where M and N are the input matrix dimensions.\n",
      "To use the future default and silence this warning we advise to pass `rcond=None`, to keep using the old, explicitly pass `rcond=-1`.\n",
      "  B = np.linalg.lstsq(HH, HT)[0]\n"
     ]
    },
    {
     "name": "stdout",
     "output_type": "stream",
     "text": [
      "[0 0 0 0 0 0 0 0 0 0 0 0 0 0 0 0 0 0 0 0 0 0 0 0 0 0 0 0 0 0 0 0 0 0 0 0 0\n",
      " 0 0 0 0 0 0 0 0 0 0 0 0 0 0 0 0 0 0 0 0 0 0 0 0 0 0 0 0 0 0 0 0 0 0 0 0 0\n",
      " 0 0 0 0 0 0 0 0 0 0 0 0 0 0 0 0 0 0 0 0 0 0 0 0 0 1 0 0 0 0 0 0 0 0 0 0 0\n",
      " 0 0 0 0 0 0 0 0 0 0 0 0 0 0 0 0 0 0 0 0 0 0 0 0 0 0 0 0 0 0 0 0 0 0 0 0 0\n",
      " 0 0 0 0 0 0 0 0 0 0 0 0 0 0 0 0 0 0 0 0 0 0 0 0 0 0 0 0 0 0 0 0 0 0 0 0 0\n",
      " 0 0 0 0 0 0 0 0 0 0 0 0 0 0 0 0 0 0 0 0 0 0 0 0 0 0 0 0 0 0 0 0 0 0 0 0 0\n",
      " 0 0 0 0 0 0 0 0 0 0 0 0 0 0 0 0 0 0 0 0 0 0 0 0 0 0 0 0 0 0 0 0 0 0 0 0 0\n",
      " 0 0 0 0 0 0 0 0 0 0 0 0 0 0 0 0 0 0 0 0 0 0 0 0 0 0 0 0 0 0 0 0 0 0 0 0 0\n",
      " 0 0 0 0 0 0 0 0 0 0 0 0 0 0 0 0 0 0 0 0 0 0 0 0 0 0 0 0 0 0 0 0 0 0 0 0 0\n",
      " 0 0 0 0 0 0 0 0 0 0 0 0 0 0 0 0 0 0 0 0 0 0 0 0 0 0 0 0 0 0 0 0 0 0 0 0 0\n",
      " 0 0 0 0 0 0 0 0 0 0 0 0 0 0 0 0 0 0 0 0 0 0 0 0 0 0 0 0 0 0 0 0 0 0 0 0 0\n",
      " 0 0 0 0 0 0 0 0 0 0 0 0 0 0 0 0 0 0 0 0 0 0 0 0 0 0 0 0 0 0 0 0 0 0 0 0 0\n",
      " 0 0 0 0 0 0 0 0 0 0 0 0 0 0 0 0 0 0 0 0 0 0 0 1 1 0 0 0 0 0 0 0 0 0 0 1 0\n",
      " 0 0 0 0 0 0 1 0 0 1 1 0 1 0 0 0 0 0 1 0 0 1 0 1 0 0 0 0 0 0 0 0 0 1 0 0 0\n",
      " 0 1 0 0 0 0 0 1 0 1 0 0 0 0 0 1 0 0 0 0 1 0 1 0 0 0 0 0 0 0 0 0 0 0 0 0 0\n",
      " 0 0 0 0 0 1 0 0 0 0 0 1 0 0 0 0 0 0 0 0 0 0 0 0 0 0 0 1 0 0 0 0 0 0 1 0 1\n",
      " 0 0 1 0 0 0 0 0 0 0 0 0 0 0 1 1 0 0 0 0 0 1 0 0 0 0 0 0 0 0 0 0 0 0 0 1 0\n",
      " 0 0 0 0 0 0 1 0 0 0 0 0 0 1 0 1 0 1 1 0 0 0 0 1 0 0 0 0 0 1 1 0 0 0 0 0 0\n",
      " 0 0 1 0 0 0 0 1 0 0 0 0 1 0 0 0 0 0 0 0 0 0 0 0 1 0 0 0 0 0 0 0 0 0 0 0 0\n",
      " 0 0 0 1 1 0 0 1 0 0 0 0 1 1 0 0 0 0 0 0 0 0 0 0 0 0 0 0 0 0 0 0 0 0 0 0 0\n",
      " 0 0 0 0 0 0 0 0 0 0 0 0 0 0 0 0 0 1 0 0 0 0 0 0 0 0 0 0 0 0 0 0 0 0 0 0 0\n",
      " 0 0 0 0 0 0 0 1 0 0 0 0 0 0 0 0 0 1 0 0 0 0 1]\n"
     ]
    },
    {
     "data": {
      "image/png": "[encoded data removed]",
      "text/plain": [
       "<Figure size 432x288 with 2 Axes>"
      ]
     },
     "metadata": {},
     "output_type": "display_data"
    }
   ],
   "source": [
    "import glob\n",
    "import numpy as np\n",
    "import matplotlib.pyplot as plt\n",
    "from hpelm import ELM\n",
    "from PIL import Image\n",
    "from sklearn.metrics import confusion_matrix, roc_curve, auc\n",
    "from mlxtend.plotting import plot_confusion_matrix\n",
    "\n",
    "mont_images = []\n",
    "shen_images = []\n",
    "mont_labels = []\n",
    "shen_labels = []\n",
    "\n",
    "for filename in glob.glob('Data/Suppressed/*.png'):\n",
    "    img = np.frombuffer(Image.open(filename).resize((256,256),Image.ANTIALIAS).tobytes(), dtype=np.uint8)\n",
    "    if os.path.basename(filename)[0] == 'C':\n",
    "        shen_images.append(img)\n",
    "        shen_labels.append(int(os.path.splitext(filename)[0][-1]))\n",
    "    elif os.path.basename(filename)[0] == 'M':\n",
    "        mont_images.append(img)\n",
    "        mont_labels.append(int(os.path.splitext(filename)[0][-1]))\n",
    "\n",
    "# Ik test de ELM hier op alle data om te controleren of het goed werkt\n",
    "X = np.array(mont_images + shen_images)\n",
    "y = np.array(mont_labels + shen_labels, dtype=np.int64)\n",
    "\n",
    "elm = ELM(65536, 1)\n",
    "\n",
    "elm.add_neurons(100, 'sigm')\n",
    "elm.add_neurons(50, 'lin')\n",
    "elm.add_neurons(2, 'sigm')\n",
    "\n",
    "# Train en test data moet nog worden gesplitst\n",
    "elm.train(X, y)\n",
    "y_pred = np.array(elm.predict(X), dtype=np.int64)\n",
    "\n",
    "plot_confusion_matrix(confusion_matrix(y, y_pred), colorbar=True)\n",
    "\n",
    "plt.show()\n",
    "\n",
    "# TODO: k-fold cross validation (k=10), plot ROC curve"
   ]
  },
  {
   "cell_type": "markdown",
   "metadata": {},
   "source": [
    "### Observations"
   ]
  },
  {
   "cell_type": "markdown",
   "metadata": {},
   "source": [
    "## Conclusion"
   ]
  }
 ],
 "metadata": {
  "kernelspec": {
   "display_name": "Python 3",
   "language": "python",
   "name": "python3"
  },
  "language_info": {
   "codemirror_mode": {
    "name": "ipython",
    "version": 3
   },
   "file_extension": ".py",
   "mimetype": "text/x-python",
   "name": "python",
   "nbconvert_exporter": "python",
   "pygments_lexer": "ipython3",
   "version": "3.6.1"
  }
 },
 "nbformat": 4,
 "nbformat_minor": 2
}
