{
 "cells": [
  {
   "cell_type": "markdown",
   "metadata": {},
   "source": [
    "# Building a classifier for detecting tuberculosis in chest X-rays\n",
    "By Jonathan Feenstra (s1024219) and Justin Huberts (s1030368)\n",
    "\n",
    "In this project we attempt to construct a binary Extreme Learning Machine (ELM) classifier to detect tuberculosis in lung X-rays. The U.S. National Library of Medicine has made two datasets of postero-anterior chest radiographs available which we will use to train and test our model: the Montgomery County Set and the Shenzen Set (Jaeger et al., 2014).\n",
    "\n",
    "The datasets are available for download at [https://ceb.nlm.nih.gov/repositories/tuberculosis-chest-x-ray-image-data-sets/](https://ceb.nlm.nih.gov/repositories/tuberculosis-chest-x-ray-image-data-sets/)\n",
    "\n",
    "## Sources\n",
    "- Jaeger, S., Candemir, S., Antani, S., Wáng, Y., Lu, P., & Thoma, G. (2014). Two public chest X-ray datasets for computer-aided screening of pulmonary diseases. _Quantitative Imaging In Medicine And Surgery, 4_(6), 475-477.\n",
    "\n",
    "## Some example images:"
   ]
  },
  {
   "cell_type": "code",
   "execution_count": null,
   "metadata": {
    "scrolled": true
   },
   "outputs": [],
   "source": [
    "import matplotlib.pyplot as plt\n",
    "import matplotlib.image as mpimg\n",
    "from scipy import ndimage\n",
    "from random import sample\n",
    "import numpy as np\n",
    "import glob\n",
    "%matplotlib inline\n",
    "\n",
    "mont_tb_neg = glob.glob('Data/MontgomerySet/CXR_png/*_0.png')\n",
    "mont_tb_pos = glob.glob('Data/MontgomerySet/CXR_png/*_1.png')\n",
    "shen_tb_neg = glob.glob('Data/ChinaSet_AllFiles/CXR_png/*_0.png')\n",
    "shen_tb_pos = glob.glob('Data/ChinaSet_AllFiles/CXR_png/*_1.png')\n",
    "\n",
    "mont_set = mont_tb_neg + mont_tb_pos\n",
    "shen_set = shen_tb_neg + shen_tb_pos\n",
    "\n",
    "mont_tb_neg_sample = sample(mont_tb_neg, 5)\n",
    "mont_tb_pos_sample = sample(mont_tb_pos, 5)\n",
    "shen_tb_neg_sample = sample(shen_tb_neg, 5)\n",
    "shen_tb_pos_sample = sample(shen_tb_pos, 5)\n",
    "\n",
    "mont_fig = plt.figure(figsize=(15,8))\n",
    "mont_fig.suptitle('Montgomery County Set', size=18)\n",
    "for i, filename in enumerate(mont_tb_neg_sample + mont_tb_pos_sample):\n",
    "    img = mpimg.imread(filename)\n",
    "    plt.subplot(2, 5, i + 1)\n",
    "    plt.imshow(img, cmap='gray')\n",
    "    if i <= 4:\n",
    "        plt.title('Healthy')\n",
    "    else:\n",
    "        plt.title('Tuberculosis')\n",
    "\n",
    "plt.show()\n",
    "\n",
    "shen_fig = plt.figure(figsize=(15,8))\n",
    "shen_fig.suptitle('Shenzen Set', size=18)\n",
    "for i, filename in enumerate(shen_tb_neg_sample + shen_tb_pos_sample):\n",
    "    img = mpimg.imread(filename)\n",
    "    plt.subplot(2, 5, i + 1)\n",
    "    plt.imshow(img)\n",
    "    if i <= 4:\n",
    "        plt.title('Healthy')\n",
    "    else:\n",
    "        plt.title('Tuberculosis')\n",
    "        \n",
    "plt.show()"
   ]
  },
  {
   "cell_type": "markdown",
   "metadata": {},
   "source": [
    "### Observations\n",
    "Since all Montgomery County images have a default size of either 4,020×4,892 or 4,892×4,020 pixels, while the actual X-ray size varies, some images contain empty space (black background). For the Shenzen Set this is not the case, but here the image sizes vary more."
   ]
  },
  {
   "cell_type": "markdown",
   "metadata": {},
   "source": [
    "## Pre-processing\n",
    "### Step 1: Trim the Montgomery set images to remove empty space"
   ]
  },
  {
   "cell_type": "code",
   "execution_count": null,
   "metadata": {
    "scrolled": true
   },
   "outputs": [],
   "source": [
    "from PIL import Image, ImageChops\n",
    "import numpy as np\n",
    "\n",
    "def trim(im):\n",
    "    bg = Image.new(im.mode, im.size, im.getpixel((0,0)))\n",
    "    diff = ImageChops.difference(im, bg)\n",
    "    diff = ImageChops.add(diff, diff, 2.0, -100)\n",
    "    bbox = diff.getbbox()\n",
    "    if bbox:\n",
    "        return im.crop(bbox)\n",
    "\n",
    "# This code was used to trim the images:\n",
    "# for filename in mont_set:\n",
    "#     trim(Image.open(filename)).save(filename.replace('CXR_png', 'trimmed'))\n",
    "\n",
    "trim_fig = plt.figure(figsize=(15,8))\n",
    "trim_fig.suptitle('Montgomery County Trimmed', size=18)\n",
    "for i, filename in enumerate(mont_tb_neg_sample + mont_tb_pos_sample):\n",
    "    plt.subplot(2, 5, i + 1)\n",
    "    plt.imshow(np.array(Image.open(filename.replace('CXR_png', 'trimmed'))), cmap='gray')\n",
    "    \n",
    "plt.show()"
   ]
  },
  {
   "cell_type": "markdown",
   "metadata": {},
   "source": [
    "### Observations\n",
    "Now that the empty space of the Montgomery County images is trimmed away, the image sizes vary more."
   ]
  },
  {
   "cell_type": "markdown",
   "metadata": {},
   "source": [
    "### Step 2: Compress all images to 1024 x 1024 pixels"
   ]
  },
  {
   "cell_type": "code",
   "execution_count": 10,
   "metadata": {},
   "outputs": [],
   "source": [
    "import glob\n",
    "from PIL import Image\n",
    "\n",
    "mont_tb_neg = glob.glob(r'Data/MontgomerySet/trimmed/*_0.png')\n",
    "mont_tb_pos = glob.glob(r'Data/MontgomerySet/trimmed/*_1.png')\n",
    "shen_tb_neg = glob.glob(r'Data/ChinaSet_AllFiles/trimmed/*_0.png')\n",
    "shen_tb_pos = glob.glob(r'Data/ChinaSet_AllFiles/trimmed/*_1.png')\n",
    "\n",
    "mont_set = mont_tb_neg + mont_tb_pos\n",
    "shen_set = shen_tb_neg + shen_tb_pos\n",
    "\n",
    "for index, img in enumerate(mont_set):\n",
    "    filename = img\n",
    "    img = Image.open(filename)\n",
    "    img.filename = filename\n",
    "    img = img.resize((1024,1024),Image.ANTIALIAS)\n",
    "    mont_set[index] = img\n"
   ]
  },
  {
   "cell_type": "markdown",
   "metadata": {},
   "source": [
    "### Observations"
   ]
  },
  {
   "cell_type": "markdown",
   "metadata": {},
   "source": [
    "### Step 3: Apply bone shadow suppression\n",
    "For this step we used the pretrained model from  [https://github.com/hmchuong/ML-BoneSuppression](https://github.com/hmchuong/ML-BoneSuppression)"
   ]
  },
  {
   "cell_type": "markdown",
   "metadata": {},
   "source": [
    "### Step 4: Reconstruct the images using an autoencoder"
   ]
  },
  {
   "cell_type": "code",
   "execution_count": 20,
   "metadata": {},
   "outputs": [
    {
     "ename": "TypeError",
     "evalue": "'int' object is not subscriptable",
     "output_type": "error",
     "traceback": [
      "\u001b[1;31m---------------------------------------------------------------------------\u001b[0m",
      "\u001b[1;31mTypeError\u001b[0m                                 Traceback (most recent call last)",
      "\u001b[1;32m<ipython-input-20-05d102278e36>\u001b[0m in \u001b[0;36m<module>\u001b[1;34m()\u001b[0m\n\u001b[0;32m     43\u001b[0m \u001b[1;32mfor\u001b[0m \u001b[0mindex\u001b[0m\u001b[1;33m,\u001b[0m \u001b[0mimg\u001b[0m \u001b[1;32min\u001b[0m \u001b[0menumerate\u001b[0m\u001b[1;33m(\u001b[0m\u001b[0mmont_set\u001b[0m\u001b[1;33m)\u001b[0m\u001b[1;33m:\u001b[0m\u001b[1;33m\u001b[0m\u001b[0m\n\u001b[0;32m     44\u001b[0m     \u001b[0mimg\u001b[0m \u001b[1;33m=\u001b[0m \u001b[0mnp\u001b[0m\u001b[1;33m.\u001b[0m\u001b[0mfrombuffer\u001b[0m\u001b[1;33m(\u001b[0m\u001b[0mimg\u001b[0m\u001b[1;33m.\u001b[0m\u001b[0mtobytes\u001b[0m\u001b[1;33m(\u001b[0m\u001b[1;33m)\u001b[0m\u001b[1;33m,\u001b[0m \u001b[0mdtype\u001b[0m\u001b[1;33m=\u001b[0m\u001b[0mnp\u001b[0m\u001b[1;33m.\u001b[0m\u001b[0muint8\u001b[0m\u001b[1;33m)\u001b[0m\u001b[1;33m\u001b[0m\u001b[0m\n\u001b[1;32m---> 45\u001b[1;33m     \u001b[0mprint\u001b[0m\u001b[1;33m(\u001b[0m\u001b[0mimg\u001b[0m\u001b[1;33m.\u001b[0m\u001b[0msize\u001b[0m\u001b[1;33m[\u001b[0m\u001b[1;36m0\u001b[0m\u001b[1;33m]\u001b[0m\u001b[1;33m)\u001b[0m\u001b[1;33m\u001b[0m\u001b[0m\n\u001b[0m\u001b[0;32m     46\u001b[0m     \u001b[0mimg\u001b[0m \u001b[1;33m=\u001b[0m \u001b[0mimg\u001b[0m\u001b[1;33m.\u001b[0m\u001b[0mreshape\u001b[0m\u001b[1;33m(\u001b[0m\u001b[1;33m(\u001b[0m\u001b[0mimg\u001b[0m\u001b[1;33m.\u001b[0m\u001b[0msize\u001b[0m\u001b[1;33m[\u001b[0m\u001b[1;36m1\u001b[0m\u001b[1;33m]\u001b[0m\u001b[1;33m,\u001b[0m \u001b[0mimg\u001b[0m\u001b[1;33m.\u001b[0m\u001b[0msize\u001b[0m\u001b[1;33m[\u001b[0m\u001b[1;36m0\u001b[0m\u001b[1;33m]\u001b[0m\u001b[1;33m,\u001b[0m \u001b[1;36m3\u001b[0m\u001b[1;33m)\u001b[0m\u001b[1;33m)\u001b[0m\u001b[1;33m\u001b[0m\u001b[0m\n\u001b[0;32m     47\u001b[0m     \u001b[0mmont_set\u001b[0m\u001b[1;33m[\u001b[0m\u001b[0mindex\u001b[0m\u001b[1;33m]\u001b[0m \u001b[1;33m=\u001b[0m \u001b[0mimg\u001b[0m\u001b[1;33m\u001b[0m\u001b[0m\n",
      "\u001b[1;31mTypeError\u001b[0m: 'int' object is not subscriptable"
     ]
    }
   ],
   "source": [
    "from keras.layers import Input, Dense\n",
    "from keras.models import Model\n",
    "\n",
    "#from sklearn.preprocessing import StandardScaler\n",
    "#scaler = StandardScaler()\n",
    "#scaled_data = scaler.fit_transform(data)\n",
    "\n",
    "import numpy as np\n",
    "import random\n",
    "\n",
    "# this is the size of our encoded representations\n",
    "encoding_dim = 32  # 32 floats -> compression of factor 24.5, assuming the input is 784 floats\n",
    "\n",
    "# this is our input placeholder\n",
    "input_img = Input(shape=(1024, 1024))\n",
    "# \"encoded\" is the encoded representation of the input\n",
    "encoded = Dense(encoding_dim, activation='relu')(input_img)\n",
    "# \"decoded\" is the lossy reconstruction of the input\n",
    "decoded = Dense(1024, activation='sigmoid')(encoded)\n",
    "\n",
    "# this model maps an input to its reconstruction\n",
    "autoencoder = Model(input_img, decoded)\n",
    "\n",
    "# this model maps an input to its encoded representation\n",
    "encoder = Model(input_img, encoded)\n",
    "\n",
    "# create a placeholder for an encoded (32-dimensional) input\n",
    "encoded_input = Input(shape=(encoding_dim,))\n",
    "# retrieve the last layer of the autoencoder model\n",
    "decoder_layer = autoencoder.layers[-1]\n",
    "# create the decoder model\n",
    "\n",
    "\n",
    "decoder = Model(encoded_input, decoder_layer(encoded_input))\n",
    "\n",
    "autoencoder.compile(optimizer='adadelta', loss='binary_crossentropy')\n",
    "\n",
    "#mont_set.sort(key=lambda x: x.filename, reverse=True)\n",
    "random.seed(42)\n",
    "random.shuffle(mont_set) # shuffles the ordering of the data\n",
    "\n",
    "\n",
    "for index, img in enumerate(mont_set):\n",
    "    img = np.frombuffer(img.tobytes(), dtype=np.uint8)\n",
    "    print(img.size[0])\n",
    "    img = img.reshape((img.size[1], img.size[0], 3))  \n",
    "    mont_set[index] = img\n",
    "\n",
    "split_1 = int(0.8 * len(mont_set))\n",
    "split_2 = int(0.9 * len(mont_set))\n",
    "x_train = np.array(mont_set[:split_1])\n",
    "#dev_filenames = mont_set[split_1:split_2]\n",
    "x_test = np.array(mont_set[split_2:])\n",
    "\n",
    "#x_train = x_train.reshape((len(x_train), int(np.prod(x_train.shape[1:]))))\n",
    "#x_test = x_test.reshape((len(x_test), int(np.prod(x_test.shape[1:]))))\n",
    "\n",
    "autoencoder.fit(x_train, x_train,\n",
    "                epochs=50,\n",
    "                batch_size=256,\n",
    "                shuffle=True,\n",
    "                validation_data=(x_test, x_test))\n",
    "\n",
    "# encode and decode some digits\n",
    "# note that we take them from the *test* set\n",
    "encoded_imgs = encoder.predict(x_test)\n",
    "decoded_imgs = decoder.predict(encoded_imgs)\n",
    "\n",
    "# use Matplotlib \n",
    "import matplotlib.pyplot as plt\n",
    "\n",
    "plt.figure(figsize=(20, 4))\n",
    "\n",
    "for img in range(10):\n",
    "    # display original\n",
    "    ax = plt.subplot(2, n, i + 1)\n",
    "    plt.imshow(x_test[i].reshape(28, 28))\n",
    "    plt.gray()\n",
    "    ax.get_xaxis().set_visible(False)\n",
    "    ax.get_yaxis().set_visible(False)\n",
    "\n",
    "    # display reconstruction\n",
    "    ax = plt.subplot(2, n, i + 1 + n)\n",
    "    plt.imshow(decoded_imgs[i].reshape(28, 28))\n",
    "    plt.gray()\n",
    "    ax.get_xaxis().set_visible(False)\n",
    "    ax.get_yaxis().set_visible(False)\n",
    "    \n",
    "plt.show()"
   ]
  },
  {
   "cell_type": "code",
   "execution_count": null,
   "metadata": {},
   "outputs": [],
   "source": [
    "from keras.layers import Conv2D, Dense, Activation, Flatten\n",
    "from keras.models import Sequential\n",
    "import keras\n",
    "import random\n",
    "import numpy as np\n",
    "\n",
    "mont_set.sort()\n",
    "random.seed(42)\n",
    "random.shuffle(mont_set) # shuffles the ordering of the data\n",
    "\n",
    "split_1 = int(0.8 * len(mont_set))\n",
    "split_2 = int(0.2 * len(mont_set))\n",
    "x_train = np.array(mont_set[:split_1])\n",
    "x_test = np.array(mont_set[split_2:])\n",
    "\n",
    "model = Sequential()\n",
    "model.add(Conv2D(2000, kernel_size=(5, 5),\n",
    "                 activation='relu',\n",
    "                 input_shape=(4892, 4020, 1)))\n",
    "#model.add(MaxPooling2D(pool_size=(1, 1), strides=(1, 1)))\n",
    "model.add(Conv2D(100, (5, 5), activation='relu'))\n",
    "#model.add(MaxPooling2D(pool_size=(1, 1)))\n",
    "model.add(Flatten())\n",
    "model.add(Dense(200, activation='relu'))\n",
    "\n",
    "model.compile(loss=keras.losses.categorical_crossentropy,\n",
    "              optimizer=keras.optimizers.SGD(lr=0.01),\n",
    "              metrics=['accuracy'])\n",
    "\n",
    "model.fit(x_train, x_train,\n",
    "          batch_size=50,\n",
    "          epochs=10,\n",
    "          verbose=1,\n",
    "          validation_data=(x_test, x_test))"
   ]
  },
  {
   "cell_type": "markdown",
   "metadata": {},
   "source": [
    "### Observations"
   ]
  },
  {
   "cell_type": "markdown",
   "metadata": {},
   "source": [
    "## ELM classifier\n",
    "Train and test a binary ELM classifier using the extension for scikit-learn. Evaluate it for both of the datasets with an ROC-curve and a confusion matrix.\n",
    "\n",
    "Useful article: [https://ieeexplore.ieee.org/document/7140733](https://ieeexplore.ieee.org/document/7140733)"
   ]
  },
  {
   "cell_type": "code",
   "execution_count": null,
   "metadata": {},
   "outputs": [],
   "source": [
    "from hpelm import ELM\n",
    "from sklearn.metrics import roc_curve\n",
    "from mlxtend.plotting import plot_confusion_matrix\n",
    "\n",
    "# Pseudocode until pre-processing is done\n",
    "\n",
    "# elm = ELM(input_dims, output_dims)\n",
    "# elm.add_neurons()\n",
    "\n",
    "# train & test ELM (cross-validation)\n",
    "\n",
    "# plot ROC-curve\n",
    "\n",
    "# plot_confusion_matrix(elm.confusion(T, Y), colorbar=True)\n",
    "# plt.show()"
   ]
  },
  {
   "cell_type": "markdown",
   "metadata": {},
   "source": [
    "### Observations"
   ]
  },
  {
   "cell_type": "markdown",
   "metadata": {},
   "source": [
    "## Conclusion"
   ]
  }
 ],
 "metadata": {
  "kernelspec": {
   "display_name": "Python 3",
   "language": "python",
   "name": "python3"
  },
  "language_info": {
   "codemirror_mode": {
    "name": "ipython",
    "version": 3
   },
   "file_extension": ".py",
   "mimetype": "text/x-python",
   "name": "python",
   "nbconvert_exporter": "python",
   "pygments_lexer": "ipython3",
   "version": "3.6.1"
  }
 },
 "nbformat": 4,
 "nbformat_minor": 2
}
